{
  "nbformat": 4,
  "nbformat_minor": 0,
  "metadata": {
    "colab": {
      "provenance": [],
      "authorship_tag": "ABX9TyMuO/14UYIl375lSFYTCVgn",
      "include_colab_link": true
    },
    "kernelspec": {
      "name": "python3",
      "display_name": "Python 3"
    },
    "language_info": {
      "name": "python"
    }
  },
  "cells": [
    {
      "cell_type": "markdown",
      "metadata": {
        "id": "view-in-github",
        "colab_type": "text"
      },
      "source": [
        "<a href=\"https://colab.research.google.com/github/HuzaifaH6/Guess-The-Number-Game-Computer-Project/blob/main/Guess_The_Number_Game_Project-(computer).ipynb\" target=\"_parent\"><img src=\"https://colab.research.google.com/assets/colab-badge.svg\" alt=\"Open In Colab\"/></a>"
      ]
    },
    {
      "cell_type": "code",
      "execution_count": null,
      "metadata": {
        "id": "jZoGl9NWvdMe"
      },
      "outputs": [],
      "source": [
        "import random\n",
        "def guess_the_number():\n",
        "  lowest_num = 1\n",
        "  highest_num = 100\n",
        "  attempts = 0\n",
        "  is_running = True\n",
        "\n",
        "  num = random.randint(lowest_num , highest_num)\n",
        "\n",
        "  while is_running:\n",
        "    guess = int(input(f\"Guess a number between {lowest_num} and {highest_num}: \"))\n",
        "\n",
        "    attempts += 1\n",
        "\n",
        "    if(guess < lowest_num or guess > highest_num):\n",
        "      print(\"The number is out of range\")\n",
        "\n",
        "    elif (guess < num):\n",
        "\n",
        "      print(\"The number is too low , try again!\")\n",
        "\n",
        "    elif (guess > num):\n",
        "\n",
        "      print(\"The number is too high , try again!\")\n",
        "\n",
        "    else:\n",
        "\n",
        "      print(f\"Correct! the number was {num}\")\n",
        "      print(f\"You guess the number in {attempts} attempts\")\n",
        "\n",
        "      is_running = False\n",
        "\n",
        "\n",
        "\n",
        "guess_the_number()\n"
      ]
    }
  ]
}